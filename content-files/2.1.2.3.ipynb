{
 "cells": [
  {
   "attachments": {},
   "cell_type": "markdown",
   "metadata": {},
   "source": [
    "# 2.1.2.3. LOGISTIC REGRESSION\n",
    "## DEFINITION\n",
    "**Logistic regression** is a type of machine learning algorithm that is used for solving classification problems. It is a **statistical method that models the probability of an event occurring based on a set of independent variables.**\n",
    "\n",
    "## DATASET\n",
    "Logistic regression is a supervised learning algorithm, which means it requires labeled data for training. The data consists of two types of variables:\n",
    "\n",
    "- **Dependent variable**: The target variable that we want to predict. It is a categorical variable that can take one of several values, such as yes or no, spam or not spam, etc.\n",
    "- **Independent variables**: The input variables that influence the outcome of the dependent variable. They can be numerical or categorical variables. For example, age, gender, income, education, etc.\n",
    "\n",
    "## GOAL\n",
    "The goal of logistic regression is to find the best fit line that describes the relationship between the dependent and independent variables. However, unlike linear regression, which uses a straight line to model the relationship, logistic regression uses a sigmoid function (also called a logistic function) to model the relationship. The sigmoid function is an S-shaped curve that can map any real value to a value between 0 and 1.\n",
    "\n",
    "## CLASSIFICATION PROCESS\n",
    "The logistic regression model can be used to make predictions by plugging in the values of the independent variables and calculating the probability of the event occurring. If the probability is greater than 0.5, we predict that the event will occur (class 1). If the probability is less than or equal to 0.5, we predict that the event will not occur (class 0).\n",
    "\n",
    "To find the optimal values of the coefficients that minimize the error between the predicted and actual outcomes, we use a method called maximum likelihood estimation (MLE). MLE is a technique that maximizes the likelihood function, which measures how well the model fits the data.\n",
    "\n",
    "## ADVANTAGES\n",
    "- It is easy to implement and interpret.\n",
    "- It can handle both numerical and categorical variables.\n",
    "- It can perform well with a small number of observations.\n",
    "\n",
    "## DISADVANTAGES\n",
    "- It assumes a linear relationship between the independent variables and the log-odds of the event occurring.\n",
    "- It may suffer from overfitting or underfitting if there are too many or too few features.\n",
    "- It may not perform well with highly correlated or multicollinear variables.\n",
    "\n",
    "## APPLICATIONS\n",
    "- **Medical diagnosis**: Logistic regression can be used to diagnose diseases based on symptoms and test results.\n",
    "- **Customer segmentation**: Logistic regression can be used to segment customers based on their demographics, preferences, behavior, etc.\n",
    "- **Fraud detection**: Logistic regression can be used to detect fraudulent transactions based on patterns and anomalies in the data.\n",
    "- **Natural language processing**: Logistic regression can be used to perform tasks such as sentiment analysis, text classification, part-of-speech tagging, etc.\n",
    "\n",
    "## CONCLUSION\n",
    "In conclusion, logistic regression is a powerful and versatile tool for solving classification problems in machine learning. It has a simple and intuitive structure that can represent complex decisions and outcomes. However, it also has some limitations and challenges that need to be addressed carefully. Logistic regression is widely used in various domains and applications that require decision making and prediction."
   ]
  },
  {
   "attachments": {},
   "cell_type": "markdown",
   "metadata": {},
   "source": [
    "## HANDS-ON: LOGISITIC REGRESSION"
   ]
  },
  {
   "attachments": {},
   "cell_type": "markdown",
   "metadata": {},
   "source": [
    "### 1. IMPORTS"
   ]
  },
  {
   "cell_type": "code",
   "execution_count": 1,
   "metadata": {},
   "outputs": [],
   "source": [
    "from sklearn.datasets import load_breast_cancer\n",
    "from sklearn.linear_model import LogisticRegression\n",
    "from sklearn.model_selection import train_test_split\n",
    "from sklearn.metrics import accuracy_score\n",
    "import warnings\n",
    "warnings.filterwarnings(\"ignore\")"
   ]
  },
  {
   "attachments": {},
   "cell_type": "markdown",
   "metadata": {},
   "source": [
    "### 2. DATASET"
   ]
  },
  {
   "cell_type": "code",
   "execution_count": 2,
   "metadata": {},
   "outputs": [],
   "source": [
    "breast_cancer = load_breast_cancer()\n",
    "X = breast_cancer.data\n",
    "y = breast_cancer.target"
   ]
  },
  {
   "attachments": {},
   "cell_type": "markdown",
   "metadata": {},
   "source": [
    "### 3. PREPROCESSING"
   ]
  },
  {
   "cell_type": "code",
   "execution_count": 3,
   "metadata": {},
   "outputs": [],
   "source": [
    "X_train, X_test, y_train, y_test = train_test_split(X, y, test_size=0.3, random_state=42)"
   ]
  },
  {
   "attachments": {},
   "cell_type": "markdown",
   "metadata": {},
   "source": [
    "### 4. LOGISITIC REGRESSION MODEL"
   ]
  },
  {
   "cell_type": "code",
   "execution_count": 4,
   "metadata": {},
   "outputs": [],
   "source": [
    "clf = LogisticRegression()\n",
    "clf.fit(X_train, y_train)\n",
    "y_pred = clf.predict(X_test)"
   ]
  },
  {
   "attachments": {},
   "cell_type": "markdown",
   "metadata": {},
   "source": [
    "### 5. ACCURACY SCORE"
   ]
  },
  {
   "cell_type": "code",
   "execution_count": 5,
   "metadata": {},
   "outputs": [
    {
     "name": "stdout",
     "output_type": "stream",
     "text": [
      "Accuracy: 0.9707602339181286\n"
     ]
    }
   ],
   "source": [
    "acc = accuracy_score(y_test, y_pred)\n",
    "print(\"Accuracy:\", acc)"
   ]
  },
  {
   "attachments": {},
   "cell_type": "markdown",
   "metadata": {},
   "source": [
    "## REFERENCES\n",
    "1. https://en.wikipedia.org/wiki/Logistic_regression\n",
    "2. https://www.geeksforgeeks.org/understanding-logistic-regression/\n",
    "3. https://towardsdatascience.com/introduction-to-logistic-regression-66248243c148\n",
    "4. https://www.ibm.com/topics/logistic-regression"
   ]
  }
 ],
 "metadata": {
  "kernelspec": {
   "display_name": "tdllab",
   "language": "python",
   "name": "python3"
  },
  "language_info": {
   "codemirror_mode": {
    "name": "ipython",
    "version": 3
   },
   "file_extension": ".py",
   "mimetype": "text/x-python",
   "name": "python",
   "nbconvert_exporter": "python",
   "pygments_lexer": "ipython3",
   "version": "3.10.9"
  },
  "orig_nbformat": 4
 },
 "nbformat": 4,
 "nbformat_minor": 2
}
