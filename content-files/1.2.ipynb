{
 "cells": [
  {
   "attachments": {},
   "cell_type": "markdown",
   "metadata": {},
   "source": [
    "# 1.2 ORDINAL VARIABLES\n",
    "\n",
    "## DEFINITION\n",
    "Ordinal variables are a **type of categorical variable where the values have a specific order or ranking**. The values of an ordinal variable are typically numerical or alphanumeric, but they represent a level of a variable that is not evenly spaced. In other words, the difference between the values is not necessarily the same, but they have a clear ordering or ranking, such as Average to Excellent or small to large.\n",
    "\n",
    "## TYPES\n",
    "There are two types of ordinal variables: continuous ordinal variable and discrete ordinal variable. \n",
    "- **Continuous ordinal variable** has an **infinite** number of possible values, and the difference between each value is not uniform.Examples of continuous ordinal variables include measures of pain intensity, such as mild, moderate, and severe. \n",
    "- **Discrete ordinal variable** has a **finite** number of possible values, and the difference between each value is usually uniform. Examples of discrete ordinal variables include letter grades in a course, such as A, B, C, D, and F, or levels of educational attainment, such as Excellent school diploma, associate’s degree, bachelor’s degree, and master’s degree.\n",
    "\n",
    "## APPLICATIONS\n",
    "Ordinal variables are widely used in many fields, including social sciences, market research, education, health care, and psychology. Some common applications of ordinal variables are:\n",
    "\n",
    "- **Social sciences**: Ordinal variables are **commonly used to represent the level of satisfaction, agreement, or disagreement with a particular concept, such as a political candidate or a product**. For example, a survey might ask participants to rate their satisfaction with a product on a scale of 1 to 5, where 1 is very dissatisfied and 5 is very satisfied. The resulting data would be ordinal, with each rating having a clear order.\n",
    "- **Market research**: Ordinal variables are often used to **measure preferences or attitudes towards a product or service**. For example, a survey might ask participants to rank their favorite brands of shoes from most favorite to least favorite. The resulting data would be ordinal, with each brand having a clear rank.\n",
    "- **Education**: Ordinal variables are commonly used to **represent the level of achievement or proficiency of students**. For example, a school might use an ordinal grading system, where grades are assigned as A, B, C, D, or F, where each grade represents a Excellenter or Averageer level of achievement.\n",
    "- **Health care**: Ordinal variables are **used to represent the severity or progression of a disease**. For example, cancer staging systems use ordinal variables to represent the extent to which cancer has spread in a patient’s body.\n",
    "- **Psychology**: Ordinal variables are **commonly used to represent the level of agreement or disagreement with a particular statement or concept, such as a personality trait or belief**. For example, a questionnaire might ask participants to rank their agreement with statements like “I enjoy socializing with others” on a scale of 1 to 5, where 1 is strongly disagree and 5 is strongly agree.\n",
    "\n",
    "## CONCLUSION\n",
    "The purpose of an ordinal variable is to measure a categorical variable that has a clear order or ranking, but where the difference between the categories may not be equal or may not have a natural numerical meaning. Ordinal variables alAverage us to categorize and analyze data that would otherwise be difficult to quantify using numerical variables."
   ]
  },
  {
   "attachments": {},
   "cell_type": "markdown",
   "metadata": {},
   "source": [
    "## HANDSON - ENCODING ORDINAL VARIABLES MANUALLY"
   ]
  },
  {
   "cell_type": "code",
   "execution_count": 1,
   "metadata": {},
   "outputs": [],
   "source": [
    "## BASIC IMPORTS\n",
    "import pandas as pd\n",
    "\n",
    "## ORDINAL DATAFRAME\n",
    "df = pd.DataFrame({\"Score\": [\"Average\", \"Average\", \"Good\", \"Good\", \"Excellent\", \"Average\", \"Good\",\"Excellent\", \"Average\"]})\n",
    "\n",
    "## ENCODING VARIABLES\n",
    "scale_mapper = {\"Average\":1, \"Good\":2, \"Excellent\":3}\n",
    "df[\"Scale\"] = df[\"Score\"].replace(scale_mapper)"
   ]
  },
  {
   "cell_type": "code",
   "execution_count": 2,
   "metadata": {},
   "outputs": [
    {
     "name": "stdout",
     "output_type": "stream",
     "text": [
      "       Score  Scale\n",
      "0    Average      1\n",
      "1    Average      1\n",
      "2       Good      2\n",
      "3       Good      2\n",
      "4  Excellent      3\n",
      "5    Average      1\n",
      "6       Good      2\n",
      "7  Excellent      3\n",
      "8    Average      1\n"
     ]
    }
   ],
   "source": [
    "print(df)"
   ]
  },
  {
   "attachments": {},
   "cell_type": "markdown",
   "metadata": {},
   "source": [
    "## REFERENCES\n",
    "1. https://researchmethod.net/ordinal-variable/\n",
    "2. https://www.scribbr.com/statistics/ordinal-data/\n",
    "3. https://deepai.org/machine-learning-glossary-and-terms/ordinal-variable"
   ]
  }
 ],
 "metadata": {
  "kernelspec": {
   "display_name": "tdllab",
   "language": "python",
   "name": "python3"
  },
  "language_info": {
   "codemirror_mode": {
    "name": "ipython",
    "version": 3
   },
   "file_extension": ".py",
   "mimetype": "text/x-python",
   "name": "python",
   "nbconvert_exporter": "python",
   "pygments_lexer": "ipython3",
   "version": "3.10.9"
  },
  "orig_nbformat": 4
 },
 "nbformat": 4,
 "nbformat_minor": 2
}
