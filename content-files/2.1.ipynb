{
 "cells": [
  {
   "attachments": {},
   "cell_type": "markdown",
   "metadata": {},
   "source": [
    "# 2.1 SUPERVISED LEARNING\n",
    "## DEFINITION\n",
    "**Supervised learning is a subcategory of machine learning and artificial intelligence that uses labeled datasets to train algorithms to classify data or predict outcomes accurately**. It is called supervised because the algorithm learns from the input data that is already tagged with the correct output, like a student learns under the supervision of a teacher.\n",
    "\n",
    "## WORKING\n",
    "Supervised learning works by following these steps:\n",
    "\n",
    "1. Collect and label the training data, which includes inputs and correct outputs\n",
    "2. Split the training data into training set, test set, and validation set\n",
    "3. Determine the input features and the output variable\n",
    "4. Choose a suitable algorithm for the model, such as linear regression, decision tree, neural network, etc.\n",
    "5. Train the model on the training set and adjust its parameters using the validation set\n",
    "6. Evaluate the model’s accuracy on the test set and compare its predictions with the actual outputs\n",
    "7. If the model is not accurate enough, modify the algorithm or the data and repeat the process\n",
    "\n",
    "## TYPES\n",
    "Supervised learning problems can be divided into two types: classification and regression.\n",
    "\n",
    "- **Classification problems involve assigning test data into specific categories based on some criteria**. For example, classifying emails as spam or not spam, classifying images of animals into different species, classifying tumors as benign or malignant, etc. Classification algorithms include linear classifiers, support vector machines (SVM), decision trees, k-nearest neighbor (KNN), random forest, naive bayes, etc.\n",
    "- **[Regression](2.1.1.ipynb) problems involve predicting a continuous numerical value based on the input variables**. For example, predicting house prices based on location, size, and features, predicting sales revenue based on marketing budget and customer demographics, predicting blood pressure based on age and weight, etc. Regression algorithms include linear regression, logistic regression, polynomial regression, etc.\n",
    "\n",
    "## APPLICATIONS\n",
    "Supervised learning has many applications in various domains and industries. Some of them are:\n",
    "\n",
    "- **Risk assessment**: Supervised learning can be **used to assess the creditworthiness of loan applicants**, the likelihood of insurance claims, the probability of defaulting on payments, etc.\n",
    "- **Image recognition**: Supervised learning can be used to recognize faces, objects, handwritten digits, license plates, etc. in images and videos.\n",
    "- **Fraud detection**: Supervised learning can be **used to detect fraudulent transactions, fake accounts, identity thefts**, etc. by analyzing patterns and anomalies in data.\n",
    "- **Spam filtering**: Supervised learning can be used to **filter out unwanted emails by identifying keywords, sender addresses, attachments, etc. that indicate spam**.\n",
    "- **Sentiment analysis**: Supervised learning can be **used to analyze the emotions and opinions of customers from their reviews, comments, feedbacks, etc.** by using natural language processing techniques.\n",
    "- **Speech recognition**: Supervised learning can be **used to convert speech signals into text or commands by using neural networks and deep learning methods**.\n",
    "\n",
    "## CONCLUSION\n",
    "Supervised learning is a powerful technique for creating artificial intelligence systems that can learn from labeled data and make accurate predictions or classifications. It has many types of problems and algorithms that can be applied to various domains and industries. However, supervised learning also has some limitations and challenges, such as requiring large amounts of labeled data, being prone to overfitting or underfitting, being sensitive to noise and outliers in data, etc. Therefore, supervised learning needs to be combined with other methods such as unsupervised learning or reinforcement learning to achieve better results.\n",
    "\n",
    "## REFERENCES\n",
    "1. https://www.ibm.com/topics/supervised-learning\n",
    "2. https://www.javatpoint.com/supervised-machine-learning\n",
    "3. https://www.edureka.co/blog/supervised-learning/\n",
    "4. https://www.sciencedirect.com/topics/computer-science/supervised-learning\n",
    "5. https://www.techtarget.com/searchenterpriseai/definition/supervised-learning"
   ]
  }
 ],
 "metadata": {
  "language_info": {
   "name": "python"
  },
  "orig_nbformat": 4
 },
 "nbformat": 4,
 "nbformat_minor": 2
}
