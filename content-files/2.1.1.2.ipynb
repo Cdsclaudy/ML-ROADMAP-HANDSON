{
 "cells": [
  {
   "attachments": {},
   "cell_type": "markdown",
   "metadata": {},
   "source": [
    "# 2.1.1.2. Poisson Regression\n",
    "## DEFINITION\n",
    "**Poisson regression is a type of generalized linear model that is used to model count data and contingency tables**. Count data are data that represent the number of occurrences of an event, such as the number of students who graduate, the number of traffic accidents, the number of people who finish a triathlon, etc. Contingency tables are data that show the frequency distribution of two or more categorical variables, such as the number of people who have a certain disease by age group and gender. Poisson regression assumes that the response variable follows a Poisson distribution, which is a discrete probability distribution that describes the probability of a given number of events occurring in a fixed interval of time or space. Poisson regression also assumes that the logarithm of the expected value (mean) of the response variable can be modeled by a linear combination of unknown parameters.\n",
    "\n",
    "## USE CASES\n",
    "Poisson regression can be used to examine the relationship between one or more predictor variables and the response variable, and to make predictions and test hypotheses. For example, Poisson regression can be used to predict the number of students who graduate based on their GPA and gender, or to test whether there is a difference in the number of traffic accidents between sunny and rainy days3. Poisson regression can also be modified to account for different exposure levels or population sizes in each observation, or to capture the interaction effects between predictor variables2.\n",
    "\n",
    "## ADVANTAGES\n",
    "- It can handle count data and contingency tables without transforming them.\n",
    "- It can model non-linear relationships between the predictor variables and the response variable.\n",
    "- It can handle both continuous and categorical predictor variables.\n",
    "- It can be easily extended to other types of distributions.\n",
    "  \n",
    "## DISADVANTAGES\n",
    "-  It requires the mean and variance of the response variable to be equal.\n",
    "-  It may not fit well if there are too many zeros or outliers in the data.\n",
    "-  It may suffer from overdispersion or underdispersion.\n",
    "-  It may not capture complex relationships between predictor variables. Therefore, Poisson regression should be used with caution and checked for its assumptions and goodness of fit before interpreting and applying the results."
   ]
  },
  {
   "attachments": {},
   "cell_type": "markdown",
   "metadata": {},
   "source": [
    "## HANDS-ON: POISSON REGRESSION"
   ]
  },
  {
   "attachments": {},
   "cell_type": "markdown",
   "metadata": {},
   "source": [
    "### 1. IMPORTS"
   ]
  },
  {
   "cell_type": "code",
   "execution_count": 1,
   "metadata": {},
   "outputs": [],
   "source": [
    "import numpy as np\n",
    "import pandas as pd\n",
    "import matplotlib.pyplot as plt\n",
    "import statsmodels.api as sm"
   ]
  },
  {
   "attachments": {},
   "cell_type": "markdown",
   "metadata": {},
   "source": [
    "### 2. DATA IMPORT"
   ]
  },
  {
   "cell_type": "code",
   "execution_count": 2,
   "metadata": {},
   "outputs": [],
   "source": [
    "df = pd.read_csv('../assets/resources-2.1.1.2/complaints.csv')"
   ]
  },
  {
   "attachments": {},
   "cell_type": "markdown",
   "metadata": {},
   "source": [
    "### 3. PREPROCESSING"
   ]
  },
  {
   "cell_type": "code",
   "execution_count": 3,
   "metadata": {},
   "outputs": [],
   "source": [
    "df['intercept'] = 1"
   ]
  },
  {
   "attachments": {},
   "cell_type": "markdown",
   "metadata": {},
   "source": [
    "### 4. POISSON REGRESSION MODEL"
   ]
  },
  {
   "cell_type": "code",
   "execution_count": 4,
   "metadata": {},
   "outputs": [
    {
     "name": "stdout",
     "output_type": "stream",
     "text": [
      "                 Generalized Linear Model Regression Results                  \n",
      "==============================================================================\n",
      "Dep. Variable:             complaints   No. Observations:                   10\n",
      "Model:                            GLM   Df Residuals:                        8\n",
      "Model Family:                 Poisson   Df Model:                            1\n",
      "Link Function:                    Log   Scale:                          1.0000\n",
      "Method:                          IRLS   Log-Likelihood:                -22.695\n",
      "Date:                Sat, 06 May 2023   Deviance:                       1.4099\n",
      "Time:                        23:21:36   Pearson chi2:                     1.38\n",
      "No. Iterations:                     4   Pseudo R-squ. (CS):             0.9506\n",
      "Covariance Type:            nonrobust                                         \n",
      "==============================================================================\n",
      "                 coef    std err          z      P>|z|      [0.025      0.975]\n",
      "------------------------------------------------------------------------------\n",
      "intercept      1.6537      0.227      7.300      0.000       1.210       2.098\n",
      "time           0.1644      0.031      5.307      0.000       0.104       0.225\n",
      "==============================================================================\n"
     ]
    }
   ],
   "source": [
    "model = sm.GLM(df['complaints'], df[['intercept', 'time']], family=sm.families.Poisson())\n",
    "result = model.fit()\n",
    "print(result.summary())"
   ]
  },
  {
   "attachments": {},
   "cell_type": "markdown",
   "metadata": {},
   "source": [
    "### 5. EVALUATION"
   ]
  },
  {
   "cell_type": "code",
   "execution_count": 5,
   "metadata": {},
   "outputs": [
    {
     "name": "stdout",
     "output_type": "stream",
     "text": [
      "                 Generalized Linear Model Regression Results                  \n",
      "==============================================================================\n",
      "Dep. Variable:             complaints   No. Observations:                   10\n",
      "Model:                            GLM   Df Residuals:                        8\n",
      "Model Family:                 Poisson   Df Model:                            1\n",
      "Link Function:                    Log   Scale:                          1.0000\n",
      "Method:                          IRLS   Log-Likelihood:                -22.695\n",
      "Date:                Sat, 06 May 2023   Deviance:                       1.4099\n",
      "Time:                        23:22:10   Pearson chi2:                     1.38\n",
      "No. Iterations:                     4   Pseudo R-squ. (CS):             0.9506\n",
      "Covariance Type:            nonrobust                                         \n",
      "==============================================================================\n",
      "                 coef    std err          z      P>|z|      [0.025      0.975]\n",
      "------------------------------------------------------------------------------\n",
      "intercept      1.6537      0.227      7.300      0.000       1.210       2.098\n",
      "time           0.1644      0.031      5.307      0.000       0.104       0.225\n",
      "==============================================================================\n",
      "0       6.160356\n",
      "1      32.195542\n",
      "2     168.261855\n",
      "3     879.378027\n",
      "4    4595.846831\n",
      "dtype: float64\n"
     ]
    }
   ],
   "source": [
    "# Printing the model summary table\n",
    "print(result.summary())\n",
    "\n",
    "# Making predictions based on the model\n",
    "new_data = pd.DataFrame({'time': [1, 2, 3, 4, 5]})\n",
    "new_data['intercept'] = 1\n",
    "predictions = result.predict(new_data)\n",
    "print(predictions)"
   ]
  },
  {
   "attachments": {},
   "cell_type": "markdown",
   "metadata": {},
   "source": [
    "### 6. VISUALIZATION"
   ]
  },
  {
   "cell_type": "code",
   "execution_count": 6,
   "metadata": {},
   "outputs": [
    {
     "data": {
      "image/png": "[encoded data removed]",
      "text/plain": [
       "<Figure size 640x480 with 1 Axes>"
      ]
     },
     "metadata": {},
     "output_type": "display_data"
    }
   ],
   "source": [
    "plt.scatter(df['time'], df['complaints'], alpha=0.5)\n",
    "plt.plot(new_data['time'], predictions, color='red')\n",
    "plt.xlabel('Time')\n",
    "plt.ylabel('Number of Complaints')\n",
    "plt.title('Actual vs. Predicted Number of Complaints')\n",
    "plt.show()"
   ]
  },
  {
   "attachments": {},
   "cell_type": "markdown",
   "metadata": {},
   "source": [
    "## REFERENCES\n",
    "1. https://en.wikipedia.org/wiki/Poisson_regression\n",
    "2. https://www.statology.org/poisson-regression/\n",
    "3. https://www.dataquest.io/blog/tutorial-poisson-regression-in-r/"
   ]
  }
 ],
 "metadata": {
  "kernelspec": {
   "display_name": "tdllab",
   "language": "python",
   "name": "python3"
  },
  "language_info": {
   "codemirror_mode": {
    "name": "ipython",
    "version": 3
   },
   "file_extension": ".py",
   "mimetype": "text/x-python",
   "name": "python",
   "nbconvert_exporter": "python",
   "pygments_lexer": "ipython3",
   "version": "3.10.9"
  },
  "orig_nbformat": 4
 },
 "nbformat": 4,
 "nbformat_minor": 2
}
