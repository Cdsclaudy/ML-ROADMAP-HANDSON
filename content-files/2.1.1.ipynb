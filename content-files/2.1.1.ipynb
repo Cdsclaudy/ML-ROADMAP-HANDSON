{
 "cells": [
  {
   "attachments": {},
   "cell_type": "markdown",
   "metadata": {},
   "source": [
    "#  2.1.1. Regression\n",
    "## DEFINITION\n",
    "**Regression is a statistical method that attempts to determine the relationship between one dependent variable and one or more independent variables**. It is used to analyze how the changes in the independent variables are associated with the changes in the dependent variable, and to predict the value of the dependent variable based on the values of the independent variables.\n",
    "\n",
    "## TYPES\n",
    "There are many types of regression, depending on the number and nature of the independent variables, the shape of the relationship, and the distribution of the errors. Some of the common types are:\n",
    "\n",
    "- **Simple linear regression**: It **uses one independent variable to explain or predict the outcome of the dependent variable**, based on a straight line that minimizes the sum of squared errors.\n",
    "- **Multiple linear regression**: It **uses two or more independent variables to explain or predict the outcome of the dependent variable**, based on a plane or a hyperplane that minimizes the sum of squared errors.\n",
    "- **Non-linear regression**: It uses one or more independent variables to explain or predict the outcome of the dependent variable, based on a curve or a surface that may not have a constant slope or a constant rate of change.\n",
    "- **Logistic regression**: It uses one or more independent variables to explain or predict the outcome of a binary dependent variable, based on a logistic function that models the probability of the outcome.\n",
    "- **Polynomial regression**: It uses one independent variable to explain or predict the outcome of the dependent variable, based on a polynomial function that may have higher-order terms and interactions.\n",
    "\n",
    "## APPLICATIONS\n",
    "Regression has many applications in various fields and disciplines, such as finance, economics, business, science, engineering, etc. Some of them are:\n",
    "\n",
    "- **Valuation**: Regression can be used to estimate the value of an asset or a company based on its characteristics and market conditions, such as earnings, dividends, growth rate, risk, etc.\n",
    "- **Forecasting**: Regression can be used to predict future values of a variable based on past values and trends, such as sales revenue, demand, inventory, etc.\n",
    "- **Testing hypotheses**: Regression can be used to test whether there is a significant relationship between variables and whether it is positive or negative, such as the effect of advertising on sales, the impact of education on income, etc.\n",
    "- **Exploring data**: Regression can be used to explore the patterns and associations among variables and to identify potential outliers or influential observations.\n",
    "\n",
    "## LIMITATIONS AND ASSUMPTIONS\n",
    "Regression is a powerful tool for analyzing data and making predictions, but it also has some limitations and assumptions that need to be considered. Some of them are:\n",
    "\n",
    "- **Causation**: Regression can only show correlation between variables, but not causation. There may be other factors that affect the dependent variable that are not included in the model, or there may be reverse causality or spurious correlation due to confounding variables.\n",
    "- **Linearity**: Linear regression assumes that there is a linear relationship between the dependent variable and the independent variables. If this assumption is violated, then linear regression may not be appropriate or may need to be transformed.\n",
    "- **Independence**: Regression assumes that the errors are independent and identically distributed. If this assumption is violated, then there may be autocorrelation or heteroscedasticity that affect the validity and efficiency of the estimates.\n",
    "- **Normality**: Regression assumes that the errors are normally distributed. If this assumption is violated, then there may be problems with hypothesis testing and confidence intervals.\n",
    "\n",
    "## CONCLUSION\n",
    "Regression is a useful technique for estimating the relationships between variables and predicting outcomes. It has many types and applications in various domains and industries. However, regression also has some limitations and assumptions that need to be checked and verified before interpreting and applying the results.\n",
    "\n",
    "## REFERENCES\n",
    "1. https://www.investopedia.com/terms/r/regression.asp\n",
    "2. https://en.wikipedia.org/wiki/Regression_analysis\n",
    "3. https://www.scribbr.com/statistics/simple-linear-regression/"
   ]
  },
  {
   "attachments": {},
   "cell_type": "markdown",
   "metadata": {},
   "source": [
    "## HANDS-ON REGRESSION\n",
    "\n",
    "1. [Linear Regression](2.1.1.1.ipynb)\n",
    "2. [Poisson Regression](2.1.1.2.ipynb)"
   ]
  }
 ],
 "metadata": {
  "language_info": {
   "name": "python"
  },
  "orig_nbformat": 4
 },
 "nbformat": 4,
 "nbformat_minor": 2
}
