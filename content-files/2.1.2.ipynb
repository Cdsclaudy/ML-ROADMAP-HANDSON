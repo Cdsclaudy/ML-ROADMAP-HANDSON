{
 "cells": [
  {
   "attachments": {},
   "cell_type": "markdown",
   "metadata": {},
   "source": [
    "# 2.1.2. CLASSIFICATION\n",
    "## DEFINTION \n",
    "**Classification in machine learning is a supervised learning method that assigns labels to input data based on some predefined criteria or rules.** Classification in machine learning is used to solve various problems such as spam detection, face recognition, sentiment analysis, etc.\n",
    "\n",
    "## TYPES\n",
    "There are two main types of classification problems: binary classification and multi-class classification. \n",
    "- **Binary classification** is when the output variable has only two possible values, such as yes or no, spam or not spam, cat or dog, etc. \n",
    "- **Multi-class classification** is when the output variable has more than two possible values, such as types of fruits, genres of music, breeds of animals, etc.\n",
    "\n",
    "## ALGORITHMS\n",
    "There are also different types of learners or algorithms that can perform classification tasks. Some of the common ones are:\n",
    "\n",
    "- **Logistic regression**: This is a linear model that **predicts the probability of an input belonging to a certain class using a logistic function**. Logistic regression can be used for binary or multi-class classification problems. For example, logistic regression can be used to predict whether a customer will buy a product or not based on their age, gender, income, etc.\n",
    "- **Support vector machines (SVMs)**: This is a **non-linear model that finds the optimal hyperplane that separates the data into different classes**. SVMs can also use kernel functions to map the data into higher-dimensional spaces and find more complex boundaries. SVMs can be used for binary or multi-class classification problems. For example, SVMs can be used to classify images of handwritten digits based on their pixel values.\n",
    "- **Decision trees**: This is a **hierarchical model that splits the data into smaller subsets based on some criteria until each subset belongs to one class**. Decision trees can handle both numerical and categorical features and can be used for binary or multi-class classification problems. For example, decision trees can be used to diagnose a disease based on the symptoms of a patient\n",
    "- **K-nearest neighbors (KNN)**: This is a lazy learner that does not build any model from the training data but instead stores it and compares it with the test data. KNN finds the **k most similar instances** from the training data and assigns the label of the majority class to the test instance. KNN can be used for binary or multi-class classification problems. For example, KNN can be used to classify flowers based on their petal and sepal measurements.\n",
    "- **Naive Bayes**: This is a **probabilistic model that applies Bayes’ theorem to calculate the posterior probability of each class given the input features**. Naive Bayes assumes that the features are independent of each other given the class label. Naive Bayes can be used for binary or multi-class classification problems. For example, Naive Bayes can be used to classify emails as spam or not spam based on the words they contain.\n",
    "- **Artificial neural networks (ANNs)**: This is a **non-linear model that consists of multiple layers of interconnected nodes that process and transmit information**. ANNs can learn complex patterns and relationships from the data and can be used for binary or multi-class classification problems. For example, ANNs can be used to recognize faces based on their pixel values.\n",
    "\n",
    "## EVALUATION\n",
    "To evaluate the performance of a classification model, we need some metrics that measure how well the model predicts the correct labels for the test data. Some of the common metrics are:\n",
    "\n",
    "- **Accuracy**: This is the ratio of correctly predicted instances to the total number of instances. Accuracy measures how often the model is correct overall.\n",
    "- **Precision**: This is the ratio of correctly predicted positive instances to the total number of predicted positive instances. Precision measures how often the model is correct when it predicts positive.\n",
    "- **Recall**: This is the ratio of correctly predicted positive instances to the total number of actual positive instances. Recall measures how often the model predicts positive when it is actually positive.\n",
    "- **F1-score**: This is the harmonic mean of precision and recall. F1-score measures how well the model balances precision and recall.\n",
    "- **Confusion matrix**: This is a table that shows the number of true positives, false positives, true negatives, and false negatives for each class. Confusion matrix gives a detailed overview of how well the model performs for each class.\n",
    "\n",
    "## CONCLUSION\n",
    "Classification in machine learning is a powerful and versatile technique that can help us solve various real-world problems by assigning labels to input data based on some criteria or rules. In this essay, we discussed the types and methodologies of classification in machine learning. We learned about the difference between binary and multi-class classification problems and the different types of learners or algorithms that can handle them. We also learned about some common metrics that can help us evaluate the performance of a classification model on test data. Classification in machine learning is an active and evolving field that has many potential applications and challenges. Some possible directions for future research or applications are:\n",
    "\n",
    "- Developing more robust and efficient algorithms that can handle large-scale, high-dimensional, noisy, imbalanced, or dynamic data.\n",
    "- Exploring more complex and diverse types of classification problems such as multi-label, multi-instance, hierarchical, or semi-supervised classification.\n",
    "- Integrating domain knowledge, human feedback, or ethical considerations into the classification process to improve the accuracy, interpretability, or fairness of the model.\n",
    "- Applying classification techniques to new domains or tasks such as natural language processing, computer vision, bioinformatics, social media analysis, etc."
   ]
  },
  {
   "attachments": {},
   "cell_type": "markdown",
   "metadata": {},
   "source": [
    "## HANDS-ON\n",
    "1. [Classification Rate](2.1.2.1.ipynb)\n",
    "2. [Decision Trees](2.1.2.2.ipynb)\n",
    "3. [Logistic Regression](2.1.2.3.ipynb)\n",
    "4. [Naiive Bayes Classifiers](2.1.2.4.ipynb)\n",
    "5. [K-Nearest Neighbours](2.1.2.5.ipynb)\n",
    "6. [SVM](2.1.2.6.ipynb)\n",
    "7. [Gaussian Mixture Models](2.1.2.7.ipynb)"
   ]
  },
  {
   "attachments": {},
   "cell_type": "markdown",
   "metadata": {},
   "source": [
    "## REFERENCES\n",
    "1. https://www.simplilearn.com/tutorials/machine-learning-tutorial/classification-in-machine-learning\n",
    "2. https://www.datacamp.com/blog/classification-machine-learning\n",
    "3. https://www.javatpoint.com/classification-algorithm-in-machine-learning\n",
    "4. https://www.analytixlabs.co.in/blog/classification-in-machine-learning/\n",
    "5. https://www.edureka.co/blog/classification-in-machine-learning/"
   ]
  }
 ],
 "metadata": {
  "language_info": {
   "name": "python"
  },
  "orig_nbformat": 4
 },
 "nbformat": 4,
 "nbformat_minor": 2
}
