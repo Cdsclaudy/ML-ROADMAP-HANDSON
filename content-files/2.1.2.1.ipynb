{
 "cells": [
  {
   "attachments": {},
   "cell_type": "markdown",
   "metadata": {},
   "source": [
    "# 2.1.2.1. CLASSIFICATION RATE\n",
    "## DEFINITIONS\n",
    "**Classification rate in machine learning is a metric that measures the accuracy of a classification model. It is defined as the ratio of correctly predicted instances to the total number of instances**. Classification rate can also be expressed as a percentage by multiplying the ratio by 100. For example, if a model correctly predicts 80 out of 100 instances, then the classification rate is 0.8 or 80%.\n",
    "\n",
    "## LIMITATIONS\n",
    "Classification rate is a simple and intuitive way to evaluate the performance of a classification model. However, it has some limitations and drawbacks that make it unsuitable for some scenarios. Some of the issues with classification rate are:\n",
    "\n",
    "- It does not account for the distribution of classes in the data. If the data is imbalanced, meaning that some classes are more frequent than others, then the classification rate can be misleading. For example, if a model predicts all instances as the majority class, then it will have a high classification rate, but it will fail to capture the minority classes.\n",
    "- It does not account for the cost or severity of misclassification errors. If some errors are more costly or harmful than others, then the classification rate does not reflect that. For example, if a model predicts whether a patient has a disease or not, then a false negative (predicting no disease when there is one) is more serious than a false positive (predicting disease when there is none).\n",
    "- It does not account for the trade-off between precision and recall. Precision and recall are two other metrics that measure how well a model identifies the positive class. Precision is the ratio of correctly predicted positive instances to the total number of predicted positive instances. Recall is the ratio of correctly predicted positive instances to the total number of actual positive instances. There is usually a trade-off between precision and recall, meaning that improving one will reduce the other. The classification rate does not capture this trade-off and may favor models that have high precision or high recall but not both.\n",
    "\n",
    "## OVERCOMING LIMITATIONS\n",
    "To overcome these limitations, there are other metrics that can be used to evaluate classification models, such as:\n",
    "\n",
    "- **Confusion matrix**: A table that shows the number of true positives, false positives, true negatives, and false negatives for each class.\n",
    "- **ROC curve and AUC**: A graph that plots the true positive rate (recall) versus the false positive rate for different classification thresholds. AUC stands for area under the curve and measures the overall performance of the model across all thresholds.\n",
    "- **Precision-recall curve and F1-score**: A graph that plots precision versus recall for different classification thresholds. F1-score is the harmonic mean of precision and recall and measures how well the model balances them.\n",
    "- **Cost-sensitive metrics**: Metrics that incorporate the cost or severity of misclassification errors into the evaluation. For example, weighted accuracy, profit curve, cost curve, etc.\n",
    "\n",
    "## CONCLUSION\n",
    "In conclusion, classification rate in machine learning is a metric that measures the accuracy of a classification model. It is simple and easy to calculate, but it has some limitations and drawbacks that make it unsuitable for some scenarios. Therefore, other metrics should be used to complement or replace classification rate depending on the problem and data characteristics."
   ]
  },
  {
   "attachments": {},
   "cell_type": "markdown",
   "metadata": {},
   "source": [
    "## HANDS-ON: CLASSIFICATION RATE"
   ]
  },
  {
   "attachments": {},
   "cell_type": "markdown",
   "metadata": {},
   "source": [
    "### 1. IMPORTING LIBRARIES"
   ]
  },
  {
   "cell_type": "code",
   "execution_count": 1,
   "metadata": {},
   "outputs": [],
   "source": [
    "from sklearn.metrics import accuracy_score"
   ]
  },
  {
   "attachments": {},
   "cell_type": "markdown",
   "metadata": {},
   "source": [
    "### 2. DATASET"
   ]
  },
  {
   "cell_type": "code",
   "execution_count": 2,
   "metadata": {},
   "outputs": [],
   "source": [
    "from sklearn.datasets import load_iris\n",
    "\n",
    "iris = load_iris()\n",
    "X = iris.data\n",
    "y = iris.target"
   ]
  },
  {
   "attachments": {},
   "cell_type": "markdown",
   "metadata": {},
   "source": [
    "### 3. DATASET PREPROCESSING"
   ]
  },
  {
   "cell_type": "code",
   "execution_count": 3,
   "metadata": {},
   "outputs": [],
   "source": [
    "from sklearn.model_selection import train_test_split\n",
    "X_train, X_test, y_train, y_test = train_test_split(X, y, test_size=0.3, random_state=42)"
   ]
  },
  {
   "attachments": {},
   "cell_type": "markdown",
   "metadata": {},
   "source": [
    "### 4. TRAINING AND TESTING A CLASSIFIER"
   ]
  },
  {
   "cell_type": "code",
   "execution_count": 4,
   "metadata": {},
   "outputs": [],
   "source": [
    "from sklearn.tree import DecisionTreeClassifier\n",
    "\n",
    "clf = DecisionTreeClassifier()\n",
    "clf.fit(X_train, y_train)\n",
    "y_pred = clf.predict(X_test)"
   ]
  },
  {
   "attachments": {},
   "cell_type": "markdown",
   "metadata": {},
   "source": [
    "### 5. ACCURACY SCORE"
   ]
  },
  {
   "cell_type": "code",
   "execution_count": 5,
   "metadata": {},
   "outputs": [
    {
     "name": "stdout",
     "output_type": "stream",
     "text": [
      "Classification rate: 1.0\n"
     ]
    }
   ],
   "source": [
    "acc = accuracy_score(y_test, y_pred)\n",
    "print(\"Classification rate:\", acc)"
   ]
  },
  {
   "attachments": {},
   "cell_type": "markdown",
   "metadata": {},
   "source": [
    "## REFERENCES\n",
    "1. https://developers.google.com/machine-learning/crash-course/classification/roc-and-auc\n",
    "2. https://developers.google.com/machine-learning/crash-course/classification/precision-and-recall\n",
    "3. https://towardsdatascience.com/10-must-know-classification-metrics-for-machine-learning-2ce3a4ad256e\n",
    "4. https://machinelearningmastery.com/understand-the-dynamics-of-learning-rate-on-deep-learning-neural-networks/\n",
    "5. https://www.datacamp.com/blog/classification-machine-learning"
   ]
  }
 ],
 "metadata": {
  "kernelspec": {
   "display_name": "tdllab",
   "language": "python",
   "name": "python3"
  },
  "language_info": {
   "codemirror_mode": {
    "name": "ipython",
    "version": 3
   },
   "file_extension": ".py",
   "mimetype": "text/x-python",
   "name": "python",
   "nbconvert_exporter": "python",
   "pygments_lexer": "ipython3",
   "version": "3.10.9"
  },
  "orig_nbformat": 4
 },
 "nbformat": 4,
 "nbformat_minor": 2
}
